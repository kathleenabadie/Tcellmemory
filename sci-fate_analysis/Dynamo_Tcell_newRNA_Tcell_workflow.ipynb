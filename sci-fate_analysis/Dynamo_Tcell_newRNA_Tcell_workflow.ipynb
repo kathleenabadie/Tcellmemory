{
 "cells": [
  {
   "cell_type": "code",
   "execution_count": null,
   "metadata": {},
   "outputs": [],
   "source": [
    "import dynamo as dyn\n"
   ]
  },
  {
   "cell_type": "code",
   "execution_count": null,
   "metadata": {},
   "outputs": [],
   "source": [
    "print(dyn.__version__)\n",
    "dyn.get_all_dependencies_version()"
   ]
  },
  {
   "cell_type": "code",
   "execution_count": null,
   "metadata": {},
   "outputs": [],
   "source": [
    "# !pip install dynamo-release --upgrade --quiet"
   ]
  },
  {
   "cell_type": "code",
   "execution_count": null,
   "metadata": {},
   "outputs": [],
   "source": [
    "\n",
    "\n",
    "import dynamo as dyn\n",
    "\n",
    "# set white background\n",
    "dyn.configuration.set_figure_params(background='white')\n",
    "\n",
    "import matplotlib.pyplot as plt\n",
    "import numpy as np\n",
    "import pandas as pd\n",
    "from gseapy.plot import barplot, dotplot\n",
    "\n",
    "import warnings\n",
    "warnings.filterwarnings('ignore')"
   ]
  },
  {
   "cell_type": "code",
   "execution_count": null,
   "metadata": {},
   "outputs": [],
   "source": [
    "plt.rc('legend',fontsize=32) # using a size in points"
   ]
  },
  {
   "cell_type": "code",
   "execution_count": null,
   "metadata": {},
   "outputs": [],
   "source": [
    "import numpy as np\n",
    "import pandas as pd\n",
    "import loompy\n",
    "import hdbscan\n",
    "import matplotlib.pyplot as plt\n",
    "import numba\n",
    "import mygene\n",
    "import scipy\n",
    "from gseapy.plot import barplot, dotplot\n",
    "import warnings\n",
    "warnings.filterwarnings('ignore')\n",
    "\n",
    "dyn.configuration.set_figure_params('dynamo', background='white')"
   ]
  },
  {
   "cell_type": "markdown",
   "metadata": {},
   "source": [
    "## Specify inputs and outputs"
   ]
  },
  {
   "cell_type": "code",
   "execution_count": null,
   "metadata": {},
   "outputs": [],
   "source": [
    "# specify inputs\n",
    "main_folder = \"/Users/kathleenabadie/Google Drive/1.Lab_starting_March_2018/5.Experiments_labwork/RNAseq/sci-FATE-seq/2019.06.11_scifate_expt1/2020Nova_Seq/RNA_velocity/\"\n",
    "\n",
    "full_RNA_folder = main_folder + \"matrix_output_all_Tcell-cds/\"\n",
    "new_RNA_folder = main_folder + \"matrix_output_new_Tcell-cds/\"\n",
    "df_cell_file = main_folder + \"matrix_output_all_Tcell-cds/df_cell.tsv\"\n",
    "\n",
    "# specify outputs\n",
    "output_folder = \"/Users/kathleenabadie/Google Drive/1.Lab_starting_March_2018/5.Experiments_labwork/RNAseq/sci-FATE-seq/2019.06.11_scifate_expt1/202101_output/\"\n",
    "output_folder_new = \"/Users/kathleenabadie/Google Drive/1.Lab_starting_March_2018/5.Experiments_labwork/RNAseq/sci-FATE-seq/2019.06.11_scifate_expt1/202108_output/\"\n",
    "\n",
    "# T cell umap coords\n",
    "UMAP_coords_file_Tcell = output_folder + \"df_cell_5k_Tcell_7clust.csv\"\n",
    "\n",
    "# here, specify names of columns in UMAP_coords_file to use for UMAP cooridnates and clusters for plotting\n",
    "umap1 = 'umap_Tcell_5k_aligned_1'\n",
    "umap2 = 'umap_Tcell_5k_aligned_2'\n",
    "clusters = 'Tcell_5k_aligned_7clust'\n",
    "\n",
    "# specify cluster colors\n",
    "cluster_colors =[\"#008B8B\", \"#08519C\",\"#969696\", \"#cc6541\", \"#A50F15\",\"#3F007D\", \"#ab62c0\"]\n",
    "\n",
    "# TFs of interest from scifate modules\n",
    "TF_Tcell = ['JUNB', 'MYC', 'TBX21', 'IRF4', 'EGR1', 'NFATC1', 'BMYC', 'MXI1', 'STAT5A', 'NFAT5', 'ELK3', 'EOMES', 'REL', 'BHLHE40', 'STAT3', 'RUNX2', 'FOXO3', 'MXD4', 'BCL11B', 'CUX1', 'GTF2I', 'FOXO1', 'FLI1', 'STAT1', 'CHD2', 'ZEB1', 'FOXN3', 'TCF7', 'LEF1', 'ELF1', 'MYB', 'IKZF1', 'TCF12']\n",
    "\n",
    "# Import full list of linked genes (only necessary if subsetting adata to only include cell cycle or T cell module genes )\n",
    "gene_mod_filename = '/Users/kathleenabadie/Google Drive/1.Lab_starting_March_2018/5.Experiments_labwork/RNAseq/sci-FATE-seq/2019.06.11_scifate_expt1/2020Nova_Seq/gene_mod_Tcell_all.txt'\n",
    "gene_file = open(gene_mod_filename, 'r')\n",
    "data = gene_file.readlines()\n",
    "\n",
    "gene_mod = []\n",
    "with open(gene_mod_filename) as my_file:\n",
    "   for line in my_file:\n",
    "       gene_mod.append(line.rstrip())\n",
    "        \n"
   ]
  },
  {
   "cell_type": "code",
   "execution_count": null,
   "metadata": {},
   "outputs": [],
   "source": [
    "# Import list of top 200 DEG between trajectories\n",
    "DEG_filename = output_folder + \"trajectory_terms_top200q.txt\"\n",
    "DEG_file = open(DEG_filename, 'r')\n",
    "data = DEG_file.readlines()\n",
    "\n",
    "DEG_bt_traj = []\n",
    "with open(DEG_filename) as my_file:\n",
    "   for line in my_file:\n",
    "       DEG_bt_traj.append(line.rstrip())\n"
   ]
  },
  {
   "cell_type": "markdown",
   "metadata": {},
   "source": [
    "## Data to anndata function"
   ]
  },
  {
   "cell_type": "code",
   "execution_count": null,
   "metadata": {},
   "outputs": [],
   "source": [
    "def create_adata(input_folder_full, input_folder_new, gene_mod):\n",
    "    #import full RNA data into adata structure\n",
    "    adata = dyn.read_mtx(input_folder_full + 'gene_count.mtx').transpose()\n",
    "    df_cell = pd.read_csv(input_folder_full + 'df_cell.tsv', delimiter=\"\\t\")\n",
    "    df_gene = pd.read_csv(input_folder_full + 'df_gene.tsv', delimiter=\"\\t\")\n",
    "    df_cell.index = df_cell[\"sample\"]\n",
    "    df_gene.index = df_gene[\"gene_id\"]\n",
    "    adata.obs = df_cell\n",
    "    adata.var = df_gene\n",
    "    adata_all = adata \n",
    "    \n",
    "    #import new RNA data\n",
    "    adata = dyn.read_mtx(input_folder_new + 'gene_count.mtx').transpose()\n",
    "    df_cell = pd.read_csv(input_folder_new + 'df_cell.tsv', delimiter=\"\\t\")\n",
    "    df_gene = pd.read_csv(input_folder_new + 'df_gene.tsv', delimiter=\"\\t\")\n",
    "    df_cell.index = df_cell[\"sample\"]\n",
    "    df_gene.index = df_gene[\"gene_id\"]\n",
    "    adata.obs = df_cell\n",
    "    adata.var = df_gene\n",
    "    adata_new = adata\n",
    "    \n",
    "    #combine into a single adata structure\n",
    "    # specify layers\n",
    "    adata_all.layers['total'] = adata_all.X\n",
    "    adata_all.layers['new'] = adata_new.X\n",
    "    adata = adata_all   \n",
    "    \n",
    "    #import umap coordinates and other data from df_cell\n",
    "    df_cell = pd.read_csv(UMAP_coords_file_Tcell)\n",
    "    adata_filter = adata[df_cell[\"sample\"], ]\n",
    "    df_cell.index = df_cell[\"sample\"]\n",
    "    adata_filter.obs = df_cell\n",
    "    adata_ori = adata\n",
    "    adata = adata_filter\n",
    "    # add label_time (2 hr)\n",
    "    adata.obs['label_time'] = 2\n",
    "    tkey = 'label_time'\n",
    "    \n",
    "    # Subset adata to only include T cell module genes\n",
    "    adata = adata[:,adata.var['gene_short_name'].isin(gene_mod)]\n",
    "    print(adata.var.shape)\n",
    "    print(adata.shape)\n",
    "    adata.var.head()\n",
    "    \n",
    "    # Change indexing from gene ID to gene name\n",
    "    adata.var_names = adata.var['gene_short_name']\n",
    "\n",
    "    # get cell cycle umap coordinates and cluster ID from df_cell and add to adata structure\n",
    "    X_umap = df_cell[[umap1, umap2]]\n",
    "    X_clusters = df_cell[[clusters]]\n",
    "    adata.obsm['X_umap'] = X_umap.values \n",
    "    adata.obs['Clusters'] = X_clusters.values\n",
    "    \n",
    "    return(adata)"
   ]
  },
  {
   "cell_type": "markdown",
   "metadata": {},
   "source": [
    "## Dynamo workflow function"
   ]
  },
  {
   "cell_type": "code",
   "execution_count": null,
   "metadata": {},
   "outputs": [],
   "source": [
    "# Dynamo workflow\n",
    "def dynamo_workflow(adata_in, spec_expt = False):\n",
    "    # preprocess the data\n",
    "    if (spec_expt == True):\n",
    "        dyn.pp.recipe_monocle(adata_in, tkey = 'label_time', experiment_type='one_shot')\n",
    "    else:\n",
    "        dyn.pp.recipe_monocle(adata_in, tkey = 'label_time')\n",
    "    #learn dynamics\n",
    "    dyn.tl.dynamics(adata_in, NTR_vel = True)\n",
    "    # dimension reduction (umap cooridinate have already been input to adata.obs, so this will be skipped) \n",
    "    dyn.tl.reduceDimension(adata_in)\n",
    "    # calculate velocity\n",
    "    dyn.tl.cell_velocities(adata_in, basis='umap')\n",
    "    # Vector field reconstruction and characterization of topology\n",
    "    dyn.vf.VectorField(adata_in, basis='umap')\n",
    "    dyn.vf.topography(adata_in, basis='umap')\n",
    "    "
   ]
  },
  {
   "cell_type": "markdown",
   "metadata": {},
   "source": [
    "## Dynamo visualization function"
   ]
  },
  {
   "cell_type": "code",
   "execution_count": null,
   "metadata": {},
   "outputs": [],
   "source": [
    "# Dynamo velocity visualization \n",
    "def dynamo_vis(adata_in, color_group, cluster_colors):\n",
    "    dyn.pl.plot_energy(adata_in)\n",
    "    dyn.pl.streamline_plot(adata_in,color=color_group, color_key = cluster_colors, show_legend=False, ncols=3, dpi=300, save_show_or_return='return')\n",
    "    dyn.pl.basic_stats(adata_in)\n",
    "    dyn.pl.show_fraction(adata_in)\n",
    "#     dyn.pl.phase_portraits(adata, color = 'Clusters', discrete_continous_div_color_key = [cluster_colors_dict,cluster_colors_dict,cluster_colors_dict],genes=TF_Tcell)"
   ]
  },
  {
   "cell_type": "markdown",
   "metadata": {},
   "source": [
    "## Run functions to create adata, run Dynamo workflow, and visualize\n",
    "Do this first without specifying experiment type and next with specifying experiment type"
   ]
  },
  {
   "cell_type": "code",
   "execution_count": null,
   "metadata": {},
   "outputs": [],
   "source": [
    "# Run without specifying experiment type\n",
    "adata_test1 = create_adata(full_RNA_folder, new_RNA_folder, gene_mod)\n",
    "dynamo_workflow(adata_test1, spec_expt=False)\n",
    "dynamo_vis(adata_test1, color_group = 'Clusters', cluster_colors = cluster_colors)"
   ]
  },
  {
   "cell_type": "markdown",
   "metadata": {},
   "source": [
    "## Test out differential geometry pipeline\n",
    "Calculate RNA acceleration"
   ]
  },
  {
   "cell_type": "code",
   "execution_count": null,
   "metadata": {},
   "outputs": [],
   "source": [
    "dyn.tl.cell_velocities(adata_test1, basis='pca')"
   ]
  },
  {
   "cell_type": "code",
   "execution_count": null,
   "metadata": {},
   "outputs": [],
   "source": [
    "dyn.vf.VectorField(adata_test1,\n",
    "                   basis='pca')"
   ]
  },
  {
   "cell_type": "code",
   "execution_count": null,
   "metadata": {},
   "outputs": [],
   "source": []
  },
  {
   "cell_type": "code",
   "execution_count": null,
   "metadata": {},
   "outputs": [],
   "source": []
  },
  {
   "cell_type": "code",
   "execution_count": null,
   "metadata": {},
   "outputs": [],
   "source": []
  },
  {
   "cell_type": "code",
   "execution_count": null,
   "metadata": {},
   "outputs": [],
   "source": [
    "dyn.vf.rank_velocity_genes(adata_test1,\n",
    "                           groups='Clusters', \n",
    "                          vkey='velocity_N'); # Velocity_N is for labeling data (as opposed to splicing)\n"
   ]
  },
  {
   "cell_type": "code",
   "execution_count": null,
   "metadata": {},
   "outputs": [],
   "source": [
    "rank_speed = adata_test1.uns['rank_velocity_N'];\n",
    "rank_abs_speed = adata_test1.uns['rank_abs_velocity_N'];"
   ]
  },
  {
   "cell_type": "code",
   "execution_count": null,
   "metadata": {},
   "outputs": [],
   "source": [
    "# save streamline plot\n",
    "figure_name = \"Tcell_newRNA_Tcell-mod-genes_20221004_noclusters\"\n",
    "dyn.pl.streamline_plot(adata_test1,color='Clusters', color_key = cluster_colors, show_legend=False, ncols=3, dpi=300, save_show_or_return='return')\n",
    "# dyn.pl.streamline_plot(adata_test1, show_legend=False, ncols=3, dpi=300, save_show_or_return='return')\n",
    "dyn.pl.save_fig(path=output_folder_new+ figure_name, prefix=None, dpi=None, ext='pdf', transparent=True, close=True, verbose=True)"
   ]
  },
  {
   "cell_type": "code",
   "execution_count": null,
   "metadata": {},
   "outputs": [],
   "source": [
    "adata_test1"
   ]
  },
  {
   "cell_type": "code",
   "execution_count": null,
   "metadata": {},
   "outputs": [],
   "source": [
    "# plot expression for comparsion to velocity\n",
    "\n",
    "dyn.pl.umap(adata_test1, color=['TCF7'], layer='X_total', frontier=False)\n",
    "dyn.pl.umap(adata_test1, color=['TCF7'], layer='X_new', frontier=False)\n",
    "dyn.pl.umap(adata_test1, color=['TCF7'], layer='velocity_N', frontier=False)\n",
    "\n",
    "dyn.pl.umap(adata_test1, color=['FOXO1'], layer='X_total', frontier=False)\n",
    "dyn.pl.umap(adata_test1, color=['FOXO1'], layer='X_new', frontier=False)\n",
    "dyn.pl.umap(adata_test1, color=['FOXO1'], layer='velocity_N', frontier=False)\n",
    "\n",
    "dyn.pl.umap(adata_test1, color=['ZEB1'], layer='X_total', frontier=False)\n",
    "dyn.pl.umap(adata_test1, color=['ZEB1'], layer='X_new', frontier=False)\n",
    "dyn.pl.umap(adata_test1, color=['ZEB1'], layer='velocity_N', frontier=False)\n",
    "\n",
    "dyn.pl.umap(adata_test1, color=['BCL11B'], layer='X_total', frontier=False)\n",
    "dyn.pl.umap(adata_test1, color=['BCL11B'], layer='X_new', frontier=False)\n",
    "dyn.pl.umap(adata_test1, color=['BCL11B'], layer='velocity_N', frontier=False)\n",
    "\n",
    "dyn.pl.umap(adata_test1, color=['EOMES'], layer='X_total', frontier=False)\n",
    "dyn.pl.umap(adata_test1, color=['EOMES'], layer='X_new', frontier=False)\n",
    "dyn.pl.umap(adata_test1, color=['EOMES'], layer='velocity_N', frontier=False)"
   ]
  },
  {
   "cell_type": "code",
   "execution_count": null,
   "metadata": {},
   "outputs": [],
   "source": []
  },
  {
   "cell_type": "code",
   "execution_count": null,
   "metadata": {},
   "outputs": [],
   "source": []
  },
  {
   "cell_type": "code",
   "execution_count": null,
   "metadata": {},
   "outputs": [],
   "source": [
    "plt.rcParams.update({'font.size': 18, \n",
    "                    })"
   ]
  },
  {
   "cell_type": "code",
   "execution_count": null,
   "metadata": {},
   "outputs": [],
   "source": [
    "figure_name = \"Myc_vel_nostream\"\n",
    "dyn.pl.umap(adata_test1, color=['MYC'], layer='velocity_N', frontier=False, save_show_or_return='return')\n",
    "dyn.pl.save_fig(path=output_folder_new+ figure_name, prefix=None, dpi=None, ext='pdf', transparent=True, close=True, verbose=True)"
   ]
  },
  {
   "cell_type": "code",
   "execution_count": null,
   "metadata": {},
   "outputs": [],
   "source": [
    "figure_name = \"Irf4_vel_nostream\"\n",
    "dyn.pl.umap(adata_test1, color=['IRF4'], layer='velocity_N', frontier=False, save_show_or_return='return')\n",
    "dyn.pl.save_fig(path=output_folder_new+ figure_name, prefix=None, dpi=None, ext='pdf', transparent=True, close=True, verbose=True)"
   ]
  },
  {
   "cell_type": "code",
   "execution_count": null,
   "metadata": {},
   "outputs": [],
   "source": [
    "figure_name = \"Zeb2_vel_nostream\"\n",
    "dyn.pl.umap(adata_test1, color=['ZEB2'], layer='velocity_N', frontier=False, save_show_or_return='return')\n",
    "dyn.pl.save_fig(path=output_folder_new+ figure_name, prefix=None, dpi=None, ext='pdf', transparent=True, close=True, verbose=True)"
   ]
  },
  {
   "cell_type": "code",
   "execution_count": null,
   "metadata": {},
   "outputs": [],
   "source": [
    "figure_name = \"Foxo1_vel_nostream\"\n",
    "dyn.pl.umap(adata_test1, color=['FOXO1'], layer='velocity_N', frontier=False, save_show_or_return='return')\n",
    "dyn.pl.save_fig(path=output_folder_new+ figure_name, prefix=None, dpi=None, ext='pdf', transparent=True, close=True, verbose=True)"
   ]
  },
  {
   "cell_type": "code",
   "execution_count": null,
   "metadata": {},
   "outputs": [],
   "source": [
    "figure_name = \"Myb_vel_nostream\"\n",
    "dyn.pl.umap(adata_test1, color=['MYB'], layer='velocity_N', frontier=False, save_show_or_return='return')\n",
    "dyn.pl.save_fig(path=output_folder_new+ figure_name, prefix=None, dpi=None, ext='pdf', transparent=True, close=True, verbose=True)"
   ]
  },
  {
   "cell_type": "code",
   "execution_count": null,
   "metadata": {},
   "outputs": [],
   "source": [
    "figure_name = \"Zeb1_vel_nostream\"\n",
    "dyn.pl.umap(adata_test1, color=['ZEB1'], layer='velocity_N', frontier=False, save_show_or_return='return')\n",
    "dyn.pl.save_fig(path=output_folder_new+ figure_name, prefix=None, dpi=None, ext='pdf', transparent=True, close=True, verbose=True)"
   ]
  },
  {
   "cell_type": "code",
   "execution_count": null,
   "metadata": {},
   "outputs": [],
   "source": [
    "figure_name = \"Bcl11b_vel_nostream\"\n",
    "dyn.pl.umap(adata_test1, color=['BCL11B'], layer='velocity_N', frontier=False, save_show_or_return='return')\n",
    "dyn.pl.save_fig(path=output_folder_new+ figure_name, prefix=None, dpi=None, ext='pdf', transparent=True, close=True, verbose=True)"
   ]
  },
  {
   "cell_type": "code",
   "execution_count": null,
   "metadata": {},
   "outputs": [],
   "source": [
    "figure_name = \"Fli1_vel_nostream\"\n",
    "dyn.pl.umap(adata_test1, color=['FLI1'], layer='velocity_N', frontier=False, save_show_or_return='return')\n",
    "dyn.pl.save_fig(path=output_folder_new+ figure_name, prefix=None, dpi=None, ext='pdf', transparent=True, close=True, verbose=True)"
   ]
  },
  {
   "cell_type": "code",
   "execution_count": null,
   "metadata": {},
   "outputs": [],
   "source": [
    "figure_name = \"Egr1_vel_nostream\"\n",
    "dyn.pl.umap(adata_test1, color=['EGR1'], layer='velocity_N', frontier=False, save_show_or_return='return')\n",
    "dyn.pl.save_fig(path=output_folder_new+ figure_name, prefix=None, dpi=None, ext='pdf', transparent=True, close=True, verbose=True)"
   ]
  },
  {
   "cell_type": "code",
   "execution_count": null,
   "metadata": {},
   "outputs": [],
   "source": [
    "\n",
    "figure_name = \"Tcf7_vel_nostream\"\n",
    "dyn.pl.umap(adata_test1, color=['TCF7'], layer='velocity_N', frontier=False, save_show_or_return='return')\n",
    "dyn.pl.save_fig(path=output_folder_new+ figure_name, prefix=None, dpi=None, ext='pdf', transparent=True, close=True, verbose=True)\n",
    "#dyn.pl.umap(adata_test1, color=['TCF7'], layer='acceleration', frontier=True)"
   ]
  },
  {
   "cell_type": "code",
   "execution_count": null,
   "metadata": {},
   "outputs": [],
   "source": [
    "figure_name = \"Myc_vel_nostream\"\n",
    "dyn.pl.umap(adata_test1, color=['MYC'], layer='velocity_N', frontier=False, save_show_or_return='return')\n",
    "dyn.pl.save_fig(path=output_folder_new+ figure_name, prefix=None, dpi=None, ext='pdf', transparent=True, close=True, verbose=True)\n"
   ]
  },
  {
   "cell_type": "code",
   "execution_count": null,
   "metadata": {},
   "outputs": [],
   "source": [
    "figure_name = \"Tbx21_vel_nostream\"\n",
    "dyn.pl.umap(adata_test1, color=['TBX21'], layer='velocity_N', frontier=False, save_show_or_return='return')\n",
    "dyn.pl.save_fig(path=output_folder_new+ figure_name, prefix=None, dpi=None, ext='pdf', transparent=True, close=True, verbose=True)\n",
    "#dyn.pl.umap(adata_test1, color=['TBX21'], layer='acceleration', frontier=True)"
   ]
  },
  {
   "cell_type": "code",
   "execution_count": null,
   "metadata": {},
   "outputs": [],
   "source": [
    "figure_name = \"Runx2_vel\"\n",
    "dyn.pl.umap(adata_test1, color=['RUNX2'], layer='velocity_N', frontier=True, save_show_or_return='return')\n",
    "dyn.pl.save_fig(path=output_folder_new+ figure_name, prefix=None, dpi=None, ext='pdf', transparent=True, close=True, verbose=True)\n"
   ]
  },
  {
   "cell_type": "code",
   "execution_count": null,
   "metadata": {},
   "outputs": [],
   "source": [
    "figure_name = \"Zeb2_vel\"\n",
    "dyn.pl.umap(adata_test1, color=['ZEB2'], layer='velocity_N', frontier=True, save_show_or_return='return')\n",
    "dyn.pl.save_fig(path=output_folder_new+ figure_name, prefix=None, dpi=None, ext='pdf', transparent=True, close=True, verbose=True)\n"
   ]
  },
  {
   "cell_type": "code",
   "execution_count": null,
   "metadata": {},
   "outputs": [],
   "source": [
    "figure_name = \"Stat3_vel\"\n",
    "dyn.pl.umap(adata_test1, color=['STAT3'], layer='velocity_N', frontier=True, save_show_or_return='return')\n",
    "dyn.pl.save_fig(path=output_folder_new+ figure_name, prefix=None, dpi=None, ext='pdf', transparent=True, close=True, verbose=True)\n"
   ]
  },
  {
   "cell_type": "code",
   "execution_count": null,
   "metadata": {},
   "outputs": [],
   "source": [
    "figure_name = \"Mxi1_vel\"\n",
    "dyn.pl.umap(adata_test1, color=['MXI1'], layer='velocity_N', frontier=True, save_show_or_return='return')\n",
    "dyn.pl.save_fig(path=output_folder_new+ figure_name, prefix=None, dpi=None, ext='pdf', transparent=True, close=True, verbose=True)\n"
   ]
  },
  {
   "cell_type": "code",
   "execution_count": null,
   "metadata": {},
   "outputs": [],
   "source": [
    "figure_name = \"Eomes_vel_nostream\"\n",
    "dyn.pl.umap(adata_test1, color=['EOMES'], layer='velocity_N', frontier=False, save_show_or_return='return')\n",
    "dyn.pl.save_fig(path=output_folder_new+ figure_name, prefix=None, dpi=None, ext='pdf', transparent=True, close=True, verbose=True)\n"
   ]
  },
  {
   "cell_type": "code",
   "execution_count": null,
   "metadata": {},
   "outputs": [],
   "source": [
    "figure_name = \"Myb_vel\"\n",
    "dyn.pl.umap(adata_test1, color=['MYB'], layer='velocity_N', frontier=True, save_show_or_return='return')\n",
    "dyn.pl.save_fig(path=output_folder_new+ figure_name, prefix=None, dpi=None, ext='pdf', transparent=True, close=True, verbose=True)\n"
   ]
  },
  {
   "cell_type": "code",
   "execution_count": null,
   "metadata": {},
   "outputs": [],
   "source": [
    "figure_name = \"Stat5a_vel\"\n",
    "dyn.pl.umap(adata_test1, color=['STAT5A'], layer='velocity_N', frontier=True, save_show_or_return='return')\n",
    "dyn.pl.save_fig(path=output_folder_new+ figure_name, prefix=None, dpi=None, ext='pdf', transparent=True, close=True, verbose=True)\n"
   ]
  },
  {
   "cell_type": "code",
   "execution_count": null,
   "metadata": {},
   "outputs": [],
   "source": [
    "figure_name = \"BHLHE40_vel\"\n",
    "dyn.pl.umap(adata_test1, color=['BHLHE40'], layer='velocity_N', frontier=True, save_show_or_return='return')\n",
    "dyn.pl.save_fig(path=output_folder_new+ figure_name, prefix=None, dpi=None, ext='pdf', transparent=True, close=True, verbose=True)\n",
    "#dyn.pl.umap(adata_test1, color=['BHLHE40'], layer='acceleration', frontier=True)"
   ]
  },
  {
   "cell_type": "code",
   "execution_count": null,
   "metadata": {},
   "outputs": [],
   "source": [
    "dyn.pl.umap(adata_test1, color=['MYB'], layer='velocity_N', frontier=True)\n",
    "dyn.pl.umap(adata_test1, color=['MYB'], layer='acceleration', frontier=True)"
   ]
  },
  {
   "cell_type": "code",
   "execution_count": null,
   "metadata": {},
   "outputs": [],
   "source": [
    "dyn.pl.umap(adata_test1, color=['EGR1'], layer='velocity_N', frontier=True)\n",
    "dyn.pl.umap(adata_test1, color=['EGR1'], layer='acceleration', frontier=True)"
   ]
  }
 ],
 "metadata": {
  "kernelspec": {
   "display_name": "env01",
   "language": "python",
   "name": "env01"
  },
  "language_info": {
   "codemirror_mode": {
    "name": "ipython",
    "version": 3
   },
   "file_extension": ".py",
   "mimetype": "text/x-python",
   "name": "python",
   "nbconvert_exporter": "python",
   "pygments_lexer": "ipython3",
   "version": "3.6.12"
  }
 },
 "nbformat": 4,
 "nbformat_minor": 4
}
