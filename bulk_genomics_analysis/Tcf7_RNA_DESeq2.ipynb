{
 "cells": [
  {
   "cell_type": "code",
   "execution_count": null,
   "metadata": {},
   "outputs": [],
   "source": [
    "library(rhdf5)\n",
    "library(DESeq2)\n",
    "library(biomaRt)\n",
    "library(RColorBrewer)\n",
    "library(VennDiagram)\n",
    "library(dplyr)\n",
    "library(ggrepel)\n",
    "suppressPackageStartupMessages(library(ComplexHeatmap))\n",
    "library(ggplot2)\n",
    "library(fgsea)\n",
    "library(msigdbr)\n",
    "library(patchwork)\n",
    "library(tidyverse)\n",
    "library(viridis)\n",
    "library(cowplot)\n",
    "library(tximport)\n",
    "library(circlize)\n"
   ]
  },
  {
   "cell_type": "markdown",
   "metadata": {},
   "source": [
    "### Gene lists from literature"
   ]
  },
  {
   "cell_type": "code",
   "execution_count": null,
   "metadata": {},
   "outputs": [],
   "source": [
    "msig_df <- msigdbr(species = \"Mus musculus\")\n",
    "test <- msig_df[grep(\"GSE23321\", msig_df$gs_name ), ]\n",
    "\n"
   ]
  },
  {
   "cell_type": "code",
   "execution_count": null,
   "metadata": {},
   "outputs": [],
   "source": [
    "# qstem score used in https://www.nature.com/articles/s41590-022-01171-9#MOESM4\n",
    "# positive and negative association\n",
    "qstem_p <- as.vector(as.matrix(read.table(file.path(\"/net/shendure/vol8/projects/scifate_abadiek/Tcf7_genomics/Tcf7_RNA_analysis/gene_lists\", \"qstem_pos.txt\"))))\n",
    "qstem_n <- as.vector(as.matrix(read.table(file.path(\"/net/shendure/vol8/projects/scifate_abadiek/Tcf7_genomics/Tcf7_RNA_analysis/gene_lists\", \"qstem_neg.txt\"))))\n",
    "gs_names <-  as.vector(as.matrix(read.table(file.path(\"/net/shendure/vol8/projects/scifate_abadiek/Tcf7_genomics/Tcf7_RNA_analysis/gene_lists\", \"msigdbr_gs_name.txt\"))))\n",
    "gs_names_gsea <- as.vector(as.matrix(read.table(file.path(\"/net/shendure/vol8/projects/scifate_abadiek/Tcf7_genomics/Tcf7_RNA_analysis/gene_lists\", \"msigdbr_gs_name_gsea.txt\"))))\n",
    "\n",
    "# msigdbr\n",
    "# get gene lists\n",
    "msig_df <- msigdbr(species = \"Mus musculus\", category = \"C7\")\n",
    "msig_df <- msig_df[which(msig_df$gs_name %in% gs_names), ]\n",
    "# msig_df <- msig_df[grep(\"UP\", msig_df$gs_name ), ]\n",
    "\n",
    "msig_df_GR_EFFvMEM_UP <- msig_df[grep(\"GOLDRATH_EFF_VS_MEMORY_CD8_TCELL_UP\", msig_df$gs_name ), ] # Goldrath \n",
    "msig_df_GR_EFFvMEM_DN <- msig_df[grep(\"GOLDRATH_EFF_VS_MEMORY_CD8_TCELL_DN\", msig_df$gs_name ), ] # Goldrath \n",
    "msig_df_SK_D8_EFFvMEM_UP <- msig_df[grep(\"KAECH_DAY8_EFF_VS_MEMORY_CD8_TCELL_UP\", msig_df$gs_name ), ] #Kaech D8\n",
    "msig_df_SK_D8_EFFvMEM_DN <- msig_df[grep(\"KAECH_DAY8_EFF_VS_MEMORY_CD8_TCELL_DN\", msig_df$gs_name ), ] #Kaech D8\n",
    "msig_df_SK_D15_EFFvMEM_UP <- msig_df[grep(\"KAECH_DAY15_EFF_VS_MEMORY_CD8_TCELL_UP\", msig_df$gs_name ), ] #Kaech D15\n",
    "msig_df_SK_D15_EFFvMEM_DN <- msig_df[grep(\"KAECH_DAY15_EFF_VS_MEMORY_CD8_TCELL_DN\", msig_df$gs_name ), ] #Kaech D15\n",
    "\n",
    "\n"
   ]
  },
  {
   "cell_type": "code",
   "execution_count": null,
   "metadata": {},
   "outputs": [],
   "source": [
    "EffvMem_UP <- unique(c(msig_df_GR_EFFvMEM_UP$gene_symbol, msig_df_SK_D8_EFFvMEM_UP$gene_symbol))\n",
    "EffvMem_DN <- unique(c(msig_df_GR_EFFvMEM_DN$gene_symbol, msig_df_SK_D8_EFFvMEM_DN$gene_symbol))\n",
    "gs_names_gsea <- as.vector(as.matrix(read.table(file.path(\"/net/shendure/vol8/projects/scifate_abadiek/Tcf7_genomics/Tcf7_RNA_analysis/gene_lists\", \"msigdbr_gs_name_gsea.txt\"))))\n"
   ]
  },
  {
   "cell_type": "markdown",
   "metadata": {},
   "source": [
    "### Insert kallisto abundances for DESeq2 analysis using tximport"
   ]
  },
  {
   "cell_type": "code",
   "execution_count": null,
   "metadata": {},
   "outputs": [],
   "source": [
    "RNA_path <- \"/net/shendure/vol8/projects/scifate_abadiek/Tcf7_genomics/Tcf7_RNA_analysis\"\n",
    "main_dir <- \"/net/shendure/vol8/projects/scifate_abadiek/Tcf7_genomics/Tcf7_RNA_analysis/kallisto\"\n",
    "sample_id <- dir(file.path(main_dir,\"outs\"))\n",
    "sample_dir <- file.path(main_dir, \"outs\", sample_id)\n",
    "files = file.path(sample_dir, \"abundance.h5\")"
   ]
  },
  {
   "cell_type": "code",
   "execution_count": null,
   "metadata": {},
   "outputs": [],
   "source": [
    "# remove LL files \n",
    "LL_ind <- grep(\"low_low\", files)\n",
    "files <- files[-LL_ind]\n",
    "sample_id <- sample_id[-LL_ind]\n",
    "\n",
    "# load ensemble to gene map generated from reference transcriptome\n",
    "# ensemble2gene_raw <- read.table(file.path(main_dir, \"transcripts_to_genes.txt\"))\n",
    "ensemble2gene <- read.table(file.path(main_dir, \"transcripts_to_genes.txt\"))\n",
    "transcript_id <- ensemble2gene$V1\n",
    "gene <- ensemble2gene$V3\n",
    "ensemble2gene <- data.frame(transcript_id, gene)\n",
    "\n",
    "# counts matrix from kallisto abundance files\n",
    "txi <- tximport(files, type = \"kallisto\", tx2gene = ensemble2gene) # transcripts missing from tx2gene: 1673\n",
    "\n",
    "\n",
    "# Load metadata \n",
    "s2c <- data.frame(sample = sample_id)\n",
    "s2c <- s2c %>% separate(sample, into=c(\"mouse\", \"cond\"), sep = \"_\", extra = \"merge\", remove = FALSE) \n",
    "s2c$cond <- factor(s2c$cond, levels = c(\"D3\", \"Naive\", \"Ag\", \"low_hi\", \"hi_hi\")) # all comparisons will be done to D3\n",
    "s2c<- s2c %>% add_column(cond_simp = \"D3\", .after = \"cond\")\n",
    "s2c[which(s2c$cond %in% c(\"low_hi\", \"hi_hi\")), ]$cond_simp <- \"D9\"\n",
    "s2c[which(s2c$cond %in% c(\"Naive\", \"Ag\")), ]$cond_simp <- \"D0\"\n",
    "s2c$cond_simp <- factor(s2c$cond_simp, levels = c(\"D9\", \"D3\", \"D0\")) \n",
    "\n",
    "names(txi)\n",
    "names(txi$infReps)\n",
    "colnames(txi$counts)"
   ]
  },
  {
   "cell_type": "markdown",
   "metadata": {},
   "source": [
    "### Run DESeq"
   ]
  },
  {
   "cell_type": "code",
   "execution_count": null,
   "metadata": {},
   "outputs": [],
   "source": [
    "# create deseq object\n",
    "dds <- DESeq2::DESeqDataSetFromTximport(txi, \n",
    "                                        colData = s2c,\n",
    "                                        design= ~ cond) \n",
    "                                      \n",
    "# remove low count genes\n",
    "keep <- rowSums(counts(dds)) >= 10\n",
    "dds <- dds[keep,]\n",
    "dds$cond <- relevel(dds$cond, ref = \"D3\")\n",
    "\n",
    "# Run DESeq if not already saved\n",
    "dds1 <- DESeq2::DESeq(dds)\n",
    "\n"
   ]
  },
  {
   "cell_type": "markdown",
   "metadata": {},
   "source": [
    "### Save dds or load if already saved"
   ]
  },
  {
   "cell_type": "code",
   "execution_count": null,
   "metadata": {},
   "outputs": [],
   "source": [
    "saveRDS(dds1, file = file.path(RNA_path, \"Tcf7_RNA_kallisto_dds_0LL.RDS\"))\n",
    "\n",
    "# dds1 <- readRDS(file.path(RNA_path, \"Tcf7_RNA_kallisto_dds_0LL.RDS\"))\n",
    "\n"
   ]
  },
  {
   "cell_type": "markdown",
   "metadata": {},
   "source": [
    "### Comparisons\n",
    "Remove low_low comparison\n"
   ]
  },
  {
   "cell_type": "code",
   "execution_count": null,
   "metadata": {},
   "outputs": [],
   "source": [
    "dat1 <- data.frame(gene = rownames(dds1)) # results table \n",
    "\n",
    "pair1 <- c(\"low_hi\",\n",
    "           \"low_hi\", \"hi_hi\",\n",
    "           \"low_hi\", \"hi_hi\",\n",
    "           \"low_hi\", \"hi_hi\",\n",
    "           \"Naive\", \"Naive\", \"Ag\")\n",
    "pair2 <- c(\"hi_hi\",\n",
    "           \"Naive\", \"Naive\", \n",
    "           \"Ag\", \"Ag\",\n",
    "           \"D3\", \"D3\", \n",
    "           \"Ag\", \"D3\", \"D3\")\n",
    "condtable<- matrix(c(pair1, pair2), ncol = 2)\n",
    "\n",
    "z= length(condtable[,1])\n",
    "\n",
    "for (i in 1:z){\n",
    "    print(i)\n",
    "\n",
    "    label = paste(condtable[i,1], \"_\", condtable[i,2], sep=\"\")\n",
    "    print(label)\n",
    "    res <-results(dds1, cooksCutoff= FALSE,contrast=c(\"cond\",condtable[i,1],condtable[i,2]))\n",
    "    res.m=as.data.frame(res)\n",
    "    colnames(res.m) = paste (label,colnames(res.m),sep=\".\")\n",
    "    dat1<-cbind(dat1,(res.m),apply(res,1,function(x) ifelse(abs(x[1])>2 & x[6]<0.05,1,0))) # Change x[6] to x[5] to use p value instead of adjusted p value (not correct to do!)\n",
    "    colnames(dat1)[ncol(dat1)] <- paste0(colnames(dat1)[ncol(dat1)-1],\"_pass_filter\") # FDR < 0.05; FC > 2\n",
    "}"
   ]
  },
  {
   "cell_type": "markdown",
   "metadata": {},
   "source": [
    "### p value visualization"
   ]
  },
  {
   "cell_type": "code",
   "execution_count": null,
   "metadata": {},
   "outputs": [],
   "source": [
    "hist(dat1$low_hi_hi_hi.pvalue,breaks = 100)\n",
    "hist(dat1$low_hi_Naive.pvalue,breaks = 100)\n",
    "hist(dat1$low_hi_Ag.pvalue,breaks = 100)\n",
    "hist(dat1$low_hi_D3.pvalue,breaks = 100)\n",
    "hist(dat1$hi_hi_Naive.pvalue,breaks = 100)\n",
    "hist(dat1$hi_hi_Ag.pvalue,breaks = 100)\n",
    "hist(dat1$hi_hi_D3.pvalue,breaks = 100)\n",
    "hist(dat1$Naive_Ag.pvalue,breaks = 100)\n",
    "hist(dat1$Naive_D3.pvalue,breaks = 100)\n",
    "hist(dat1$Ag_D3.pvalue,breaks = 100)"
   ]
  },
  {
   "cell_type": "markdown",
   "metadata": {},
   "source": [
    "### Generate heatmap"
   ]
  },
  {
   "cell_type": "code",
   "execution_count": null,
   "metadata": {},
   "outputs": [],
   "source": [
    "# Variable between LH and HH\n",
    "dat1_LH_HH <- dat1[dat1$low_hi_hi_hi.padj_pass_filter ==1, ]\n",
    "dds1_LH_HH <- dds1[dat1$low_hi_hi_hi.padj_pass_filter ==1, ]\n",
    "\n",
    "# Aggregate variable enh between each D9 sample and each control\n",
    "select <- unique(c(\n",
    "which(dat1$low_hi_Naive.padj_pass_filter ==1),\n",
    "which(dat1$low_hi_Ag.padj_pass_filter ==1),\n",
    "which(dat1$low_hi_D3.padj_pass_filter ==1),\n",
    "which(dat1$hi_hi_Naive.padj_pass_filter ==1),\n",
    "which(dat1$hi_hi_Ag.padj_pass_filter ==1),\n",
    "which(dat1$hi_hi_D3.padj_pass_filter ==1)))\n",
    "dat1_D9_c <- dat1[select, ]\n",
    "dds1_D9_c <- dds1[select, ]\n",
    "\n",
    "# rlog\n",
    "# rld_LH_HH <- rlog(dds1_LH_HH)\n",
    "rld_D9_c <- rlog(dds1_D9_c)\n",
    "\n",
    "# select data for heatmap\n",
    "rld_hm <- rld_D9_c\n",
    "dat1_hm <- dat1_D9_c\n",
    "dds1_hm <- dds1_D9_c\n",
    "\n",
    "# select most significant peaks by either p value or fold change\n",
    "# get minimum of all tested p value\n",
    "padj_cols <- grep(\"padj\", colnames(dat1_hm))\n",
    "padj_filt_cols <- grep(\"padj_pass_filter\", colnames(dat1_hm))\n",
    "padj_cols <- padj_cols[!(padj_cols %in% padj_filt_cols)]\n",
    "dat1_hm$padj_min <- apply(dat1_hm[ , padj_cols], 1, min)\n",
    "# take lowest n min adj p value\n",
    "top_n <- head(order(dat1_hm$padj_min), n=500)\n",
    "dat1_hm <- dat1_hm[top_n, ]\n",
    "dds1_hm <- dds1_hm[top_n, ]\n",
    "rld_hm <- rld_hm[top_n, ]\n",
    "\n",
    "# heatmap matrix prep\n",
    "mat <- assay(rld_hm)\n",
    "colnames(mat)<- sample_id\n",
    "mat_scale <- t(scale(t(mat)))\n",
    "\n",
    "# genes to label Goldrath/Kaech eff\n",
    "g_fig <- EffvMem_UP\n",
    "genes_to_label_pos_4 <- which(rownames(mat_scale) %in% g_fig )\n",
    "genes_to_label_4 <- rownames(mat_scale[genes_to_label_pos_4, ])  \n",
    "\n",
    "# genes to label Goldrath/Kaech mem\n",
    "g_fig <- EffvMem_DN\n",
    "genes_to_label_pos_5 <- which(rownames(mat_scale) %in% g_fig )\n",
    "genes_to_label_5 <- rownames(mat_scale[genes_to_label_pos_5, ])  \n",
    "\n",
    "# column sample name annotations\n",
    "labels <- c('Act', 'nm', 'nem', 'Act', 'nm', 'nem', 'Mem', 'N', 'Mem', 'N')\n",
    "labels <- factor(labels, levels = c('Act','N', 'Mem', 'nm','nem' ))\n",
    "ann <- data.frame(labels)\n",
    "colnames(ann) <- c('Sample')\n",
    "colors_anno = list('Sample' = c('Act' = '#A50F15', 'N' = 'green2', 'Mem' = 'darkgreen', 'nem' = 'deepskyblue1', 'nm' = 'blue2'))\n",
    "colAnn <- HeatmapAnnotation(df = ann, \n",
    "  which = 'col',\n",
    "  col = colors_anno, \n",
    "  annotation_width = unit(c(1, 4), 'cm'),\n",
    "  gap = unit(1, 'mm'),\n",
    "  annotation_legend_param = list(Sample = list(direction = \"horizontal\")))\n",
    "                           \n",
    "\n",
    "\n",
    "# annotate rows with genes\n",
    "ha = rowAnnotation(\n",
    "                   a4=anno_mark(at= genes_to_label_pos_4, labels = genes_to_label_4, which=\"row\", labels_gp = gpar(col= \"#A50F15\",fontsize = 10)),\n",
    "                   a5=anno_mark(at= genes_to_label_pos_5, labels = genes_to_label_5, which=\"row\", labels_gp = gpar(col= \"darkgreen\",fontsize = 10))\n",
    "                   ) \n",
    "\n",
    "# Complex heatmap\n",
    "\n",
    "#k-means cluster the peaks\n",
    "set.seed(123)\n",
    "split = data.frame(cutree(hclust(dist(mat_scale)), k = 6))\n",
    "split = split %>% dplyr::rename(clust = 1)\n",
    "split$clust <- factor(split$clust, levels = c(6,4,5,3,2,1))\n",
    "\n",
    "ht_list = Heatmap(mat_scale, \n",
    "    col = colorRamp2(seq(from=-2, to=2, by = (2--2)/12)[1:12], viridis::viridis(12)),\n",
    "    name = \"Scaled rlog\", \n",
    "    show_column_names = FALSE, # false when using column annotation instead \n",
    "    show_row_names = FALSE, \n",
    "    row_names_gp = gpar(fontsize = 4), \n",
    "    cluster_columns = TRUE, \n",
    "    column_dend_reorder = c(1,8,10,1,8,10,5,3,5,3), # weights for reordering dendrogram \n",
    "    cluster_rows = TRUE, \n",
    "    show_column_dend = TRUE,\n",
    "    show_row_dend = FALSE,\n",
    "    width = unit(8, \"cm\"),\n",
    "    clustering_method_rows = \"complete\",\n",
    "    \n",
    "    # split by dendrogram\n",
    "    cluster_row_slices = FALSE, # manual ordering          \n",
    "    row_split = split,   \n",
    "    \n",
    "    # annotation\n",
    "    right_annotation = ha,\n",
    "    top_annotation=colAnn,\n",
    "                  \n",
    "    heatmap_legend_param = list(direction = \"horizontal\")\n",
    "   \n",
    ")\n",
    "\n",
    "\n",
    "\n",
    "ht_list = draw(ht_list, annotation_legend_side=\"right\", heatmap_legend_side = \"bottom\")\n",
    "\n",
    "\n"
   ]
  },
  {
   "cell_type": "code",
   "execution_count": null,
   "metadata": {},
   "outputs": [],
   "source": [
    "pdf(\"RNA_hm_deseq_clustering-complete_adj-p_n500_dendro-split-6_cols-clustered_reorder_GRanno_2022-09v4_viridis_legend2_cluster_titles.pdf\", width=8, height=12)\n",
    "draw(ht_list)\n",
    "dev.off()"
   ]
  },
  {
   "cell_type": "markdown",
   "metadata": {},
   "source": [
    "### Output gene lists for each row cluster in heatmap"
   ]
  },
  {
   "cell_type": "code",
   "execution_count": null,
   "metadata": {},
   "outputs": [],
   "source": [
    "clusterlist = row_order(ht_list)\n",
    "\n",
    "# output gene lists\n",
    "clu_df <- lapply(names(clusterlist), function(i){\n",
    "  out <- data.frame(GeneID = rownames(mat_scale[clusterlist[[i]],]),\n",
    "                                             Cluster = paste0(\"row_cluster_\", i),\n",
    "                                             stringsAsFactors = FALSE)\n",
    "     return(out)\n",
    "   }) %>%  \n",
    "     do.call(rbind, .)\n",
    "\n",
    "# output each cluster list to txt file \n",
    "write(clu_df[which(clu_df$Cluster == 'row_cluster_1'), ]$GeneID, file.path(\"heatmap_cluster_genes\", \"bulk_RNA_hm_6clust_genelist_c1.txt\"))\n",
    "write(clu_df[which(clu_df$Cluster == 'row_cluster_2'), ]$GeneID,file.path(\"heatmap_cluster_genes\", \"bulk_RNA_hm_6clust_genelist_c2.txt\"))\n",
    "write(clu_df[which(clu_df$Cluster == 'row_cluster_3'), ]$GeneID, file.path(\"heatmap_cluster_genes\", \"bulk_RNA_hm_6clust_genelist_c3.txt\"))\n",
    "write(clu_df[which(clu_df$Cluster == 'row_cluster_4'), ]$GeneID,file.path(\"heatmap_cluster_genes\", \"bulk_RNA_hm_6clust_genelist_c4.txt\"))\n",
    "write(clu_df[which(clu_df$Cluster == 'row_cluster_5'), ]$GeneID,file.path(\"heatmap_cluster_genes\", \"bulk_RNA_hm_6clust_genelist_c5.txt\"))\n",
    "write(clu_df[which(clu_df$Cluster == 'row_cluster_6'), ]$GeneID,file.path(\"heatmap_cluster_genes\", \"bulk_RNA_hm_6clust_genelist_c6.txt\"))\n",
    "\n",
    "\n",
    "# additionally, subset matrix into different heatmap clusters and save these as csv\n",
    "hm_df <- data.frame(mat_scale)\n",
    "colnames(hm_df) <- c('M1_Act', 'M1_Mem_nm', 'M1_Mem_nem', 'M3_Act', 'M3_Mem_nm', 'M3_Mem_nem', 'M4_Mem', 'M4_N','M5_Mem', 'M5_N')\n",
    "\n",
    "write.csv(hm_df[clusterlist[[1]],], file.path(\"heatmap_cluster_genes\", \"bulk_RNA_hm_6clust_matrix_c6.csv\"))\n",
    "write.csv(hm_df[clusterlist[[2]],], file.path(\"heatmap_cluster_genes\", \"bulk_RNA_hm_6clust_matrix_c4.csv\"))\n",
    "write.csv(hm_df[clusterlist[[3]],], file.path(\"heatmap_cluster_genes\", \"bulk_RNA_hm_6clust_matrix_c5.csv\"))\n",
    "write.csv(hm_df[clusterlist[[4]],], file.path(\"heatmap_cluster_genes\", \"bulk_RNA_hm_6clust_matrix_c3.csv\"))\n",
    "write.csv(hm_df[clusterlist[[5]],], file.path(\"heatmap_cluster_genes\", \"bulk_RNA_hm_6clust_matrix_c2.csv\"))\n",
    "write.csv(hm_df[clusterlist[[6]],], file.path(\"heatmap_cluster_genes\", \"bulk_RNA_hm_6clust_matrix_c1.csv\"))\n",
    "\n",
    "# or write all to same excel file with different sheets\n",
    "library(openxlsx)\n",
    "sheet_names <- names <- list('row_cluster_6' = hm_df[clusterlist[[1]],],\n",
    "                             'row_cluster_4' = hm_df[clusterlist[[2]],],\n",
    "                             'row_cluster_5' = hm_df[clusterlist[[3]],],\n",
    "                             'row_cluster_3' = hm_df[clusterlist[[4]],],\n",
    "                             'row_cluster_2' = hm_df[clusterlist[[5]],],\n",
    "                             'row_cluster_1' = hm_df[clusterlist[[6]],])\n",
    "openxlsx::write.xlsx(sheet_names, rowNames = TRUE, file = file.path('heatmap_cluster_genes', 'bulk_RNA_hm_6clust_matrix_row_clusters.xlsx'))\n",
    "          "
   ]
  },
  {
   "cell_type": "markdown",
   "metadata": {},
   "source": [
    "### Output gene lists for each row cluster, but now only for eff and mem annotation genes, separately"
   ]
  },
  {
   "cell_type": "code",
   "execution_count": null,
   "metadata": {},
   "outputs": [],
   "source": [
    "# First subset to only include effector genes\n",
    "clu_df_eff <- clu_df %>% filter(GeneID %in% EffvMem_UP)\n",
    "\n",
    "# output each cluster list to txt file \n",
    "write(clu_df_eff[which(clu_df_eff$Cluster == 'row_cluster_1'), ]$GeneID, file.path(\"heatmap_cluster_genes\", \"bulk_RNA_hm_6clust_genelist_c1_eff.txt\"), ncolumns = length(which(clu_df_eff$Cluster == 'row_cluster_1')), sep = \", \")\n",
    "write(clu_df_eff[which(clu_df_eff$Cluster == 'row_cluster_2'), ]$GeneID,file.path(\"heatmap_cluster_genes\", \"bulk_RNA_hm_6clust_genelist_c2_eff.txt\"), ncolumns = length(which(clu_df_eff$Cluster == 'row_cluster_2')), sep = \", \")\n",
    "write(clu_df_eff[which(clu_df_eff$Cluster == 'row_cluster_3'), ]$GeneID, file.path(\"heatmap_cluster_genes\", \"bulk_RNA_hm_6clust_genelist_c3_eff.txt\"), ncolumns = length(which(clu_df_eff$Cluster == 'row_cluster_3')), sep = \", \")\n",
    "write(clu_df_eff[which(clu_df_eff$Cluster == 'row_cluster_4'), ]$GeneID,file.path(\"heatmap_cluster_genes\", \"bulk_RNA_hm_6clust_genelist_c4_eff.txt\"), ncolumns = length(which(clu_df_eff$Cluster == 'row_cluster_4')), sep = \", \")\n",
    "# write(clu_df_eff[which(clu_df_eff$Cluster == 'row_cluster_5'), ]$GeneID,file.path(\"heatmap_cluster_genes\", \"bulk_RNA_hm_6clust_genelist_c5_eff.txt\"), ncolumns = length(which(clu_df_eff$Cluster == 'row_cluster_5')), sep = \", \")\n",
    "# write(clu_df_eff[which(clu_df_eff$Cluster == 'row_cluster_6'), ]$GeneID,file.path(\"heatmap_cluster_genes\", \"bulk_RNA_hm_6clust_genelist_c6_eff.txt\"), ncolumns = length(which(clu_df_eff$Cluster == 'row_cluster_6')), sep = \", \")\n",
    "\n",
    "# First subset to only include mem genes\n",
    "clu_df_mem <- clu_df %>% filter(GeneID %in% EffvMem_DN)\n",
    "\n",
    "# output each cluster list to txt file \n",
    "write(clu_df_mem[which(clu_df_mem$Cluster == 'row_cluster_1'), ]$GeneID, file.path(\"heatmap_cluster_genes\", \"bulk_RNA_hm_6clust_genelist_c1_mem.txt\"), ncolumns = length(which(clu_df_mem$Cluster == 'row_cluster_1')), sep = \", \")\n",
    "write(clu_df_mem[which(clu_df_mem$Cluster == 'row_cluster_2'), ]$GeneID,file.path(\"heatmap_cluster_genes\", \"bulk_RNA_hm_6clust_genelist_c2_mem.txt\"), ncolumns = length(which(clu_df_mem$Cluster == 'row_cluster_2')), sep = \", \")\n",
    "write(clu_df_mem[which(clu_df_mem$Cluster == 'row_cluster_3'), ]$GeneID, file.path(\"heatmap_cluster_genes\", \"bulk_RNA_hm_6clust_genelist_c3_mem.txt\"), ncolumns = length(which(clu_df_mem$Cluster == 'row_cluster_3')), sep = \", \")\n",
    "write(clu_df_mem[which(clu_df_mem$Cluster == 'row_cluster_4'), ]$GeneID,file.path(\"heatmap_cluster_genes\", \"bulk_RNA_hm_6clust_genelist_c4_mem.txt\"), ncolumns = length(which(clu_df_mem$Cluster == 'row_cluster_4')), sep = \", \")\n",
    "write(clu_df_mem[which(clu_df_mem$Cluster == 'row_cluster_5'), ]$GeneID,file.path(\"heatmap_cluster_genes\", \"bulk_RNA_hm_6clust_genelist_c5_mem.txt\"), ncolumns = length(which(clu_df_mem$Cluster == 'row_cluster_5')), sep = \", \")\n",
    "write(clu_df_mem[which(clu_df_mem$Cluster == 'row_cluster_6'), ]$GeneID,file.path(\"heatmap_cluster_genes\", \"bulk_RNA_hm_6clust_genelist_c6_mem.txt\"), ncolumns = length(which(clu_df_mem$Cluster == 'row_cluster_6')), sep = \", \")\n"
   ]
  },
  {
   "cell_type": "markdown",
   "metadata": {},
   "source": [
    "### Generate PCA "
   ]
  },
  {
   "cell_type": "code",
   "execution_count": null,
   "metadata": {},
   "outputs": [],
   "source": [
    "# refactor \n",
    "rld_hm$cond <- factor(rld_hm$cond, levels = c('D3', 'Naive', 'Ag', 'hi_hi', 'low_hi'))\n"
   ]
  },
  {
   "cell_type": "code",
   "execution_count": null,
   "metadata": {},
   "outputs": [],
   "source": [
    "# colors \n",
    "cols <-  c(\"#A50F15\", \"green2\", \"darkgreen\", \"blue2\", \"deepskyblue1\")\n",
    "\n",
    "# plot theme\n",
    "pca_theme <- theme( text=element_text(size=18))\n",
    "\n",
    "\n",
    "# PCA using top 500 DEG with padj <.05 between controls and D9\n",
    "pcaData <- plotPCA(rld_hm, intgroup=c(\"cond\"), returnData=TRUE)\n",
    "percentVar <- round(100 * attr(pcaData, \"percentVar\"))\n",
    "g <- ggplot(pcaData, aes(PC1, PC2, color=cond)) +\n",
    "  geom_point(size=3) +\n",
    "  xlab(paste0(\"PC1: \",percentVar[1],\"%\")) +\n",
    "  ylab(paste0(\"PC2: \",percentVar[2],\"%\")) + \n",
    "  coord_fixed() + scale_color_manual(\"\",labels=c('Act', 'N', 'Mem', 'nm', 'nem'), values = cols) +\n",
    "theme_bw(base_size=20) + theme(axis.text=element_text(size=14))\n",
    "\n",
    "g\n",
    "save_plot(g, file = \"RNA_pca_D9_c_0LL.pdf\")\n",
    "\n",
    "\n"
   ]
  },
  {
   "cell_type": "markdown",
   "metadata": {},
   "source": [
    "### Generate Correlation map as alternative to PCA"
   ]
  },
  {
   "cell_type": "code",
   "execution_count": null,
   "metadata": {},
   "outputs": [],
   "source": [
    "mat_dist <- rld_hm"
   ]
  },
  {
   "cell_type": "code",
   "execution_count": null,
   "metadata": {},
   "outputs": [],
   "source": [
    "# choose matrix for sample distance plot\n",
    "mat_dist <- rld_hm\n",
    "mat_dist$cond_label <- c('Act', 'nm', 'nem', 'Act', 'nm', 'nem', 'Mem', 'N','Mem', 'N')\n",
    "\n",
    "sampleDists <- dist(t(assay(mat_dist)))\n",
    "sampleDistMatrix <- as.matrix(sampleDists)\n",
    "rownames(sampleDistMatrix) <- paste(mat_dist$cond_label, mat_dist$type)\n",
    "colnames(sampleDistMatrix) <- NULL\n",
    "colors <- colorRampPalette( rev(brewer.pal(9, \"Blues\")) )(255)\n",
    "\n",
    "ht_corr = Heatmap(sampleDistMatrix, \n",
    "    name = \"Sample Dist\",\n",
    "    show_column_names = FALSE, \n",
    "    show_row_names = TRUE, \n",
    "    # row_names_gp = gpar(fontsize = 2), \n",
    "    cluster_columns = TRUE, \n",
    "    column_dend_reorder = c(1,8,10,1,8,10,5,3,5,3), # weights for reordering dendrogram\n",
    "    cluster_rows = TRUE, \n",
    "    row_dend_reorder = c(1,8,10,1,8,10,5,3,5,3), # weights for reordering dendrogram\n",
    "    show_column_dend = TRUE, show_row_dend = TRUE,width = unit(8, \"cm\"),\n",
    "    col = colors\n",
    ")\n",
    "ht_corr = draw(ht_corr)\n",
    "\n",
    "pdf(\"RNA_corr-matrix.pdf\", width=6, height=4)\n",
    "ht_corr\n",
    "dev.off()"
   ]
  },
  {
   "cell_type": "markdown",
   "metadata": {},
   "source": [
    "### GSEA analysis"
   ]
  },
  {
   "cell_type": "code",
   "execution_count": null,
   "metadata": {},
   "outputs": [],
   "source": [
    "unique(msig_df_sel$gs_name)"
   ]
  },
  {
   "cell_type": "code",
   "execution_count": null,
   "metadata": {},
   "outputs": [],
   "source": [
    "# take subset of gene lists to perform GSEA for \n",
    "msig_df_sel <- msig_df[which(msig_df$gs_name %in% gs_names_gsea), ]\n",
    "\n",
    "# gsea\n",
    "msig_list = split(x = msig_df_sel$gene_symbol, f = msig_df_sel$gs_name)\n",
    "\n",
    "\n",
    "# generate ranks from test statistic\n",
    "dat1_gsea <- dat1_D9_c # for analysis, use only DE genes between D9 and controls\n",
    "dat1_rank <- dat1_gsea[, grep(\"stat\", colnames(dat1_gsea))]  # first get all test statistic columns\n",
    "\n",
    "# stat for all comparisons of interest\n",
    "# compare D9 to D3\n",
    "ranks_low_hi_D3 <- deframe(data.frame(gene = rownames(dat1_rank), stat = dat1_rank$low_hi_D3.stat))\n",
    "ranks_hi_hi_D3 <- deframe(data.frame(gene = rownames(dat1_rank), stat = dat1_rank$hi_hi_D3.stat))\n",
    "# compare D9 to D0 Ag\n",
    "ranks_low_hi_Ag <- deframe(data.frame(gene = rownames(dat1_rank), stat = dat1_rank$low_hi_Ag.stat))\n",
    "ranks_hi_hi_Ag <- deframe(data.frame(gene = rownames(dat1_rank), stat = dat1_rank$hi_hi_Ag.stat))\n",
    "\n",
    "# add comparison label column\n",
    "gsea_low_hi_D3 <- fgsea(pathways = msig_list, stats=ranks_low_hi_D3) %>% add_column(comp = 'LH_D3')\n",
    "gsea_hi_hi_D3 <- fgsea(pathways = msig_list, stats=ranks_hi_hi_D3)%>% add_column(comp = 'HH_D3')\n",
    "\n",
    "gsea_low_hi_Ag <- fgsea(pathways = msig_list, stats=ranks_low_hi_Ag) %>% add_column(comp = 'LH_Ag')\n",
    "gsea_hi_hi_Ag <- fgsea(pathways = msig_list, stats=ranks_hi_hi_Ag) %>% add_column(comp = 'HH_Ag')\n",
    "\n"
   ]
  },
  {
   "cell_type": "code",
   "execution_count": null,
   "metadata": {},
   "outputs": [],
   "source": [
    "gsea_all <- rbind(\n",
    "                  gsea_low_hi_D3,\n",
    "                  gsea_hi_hi_D3,\n",
    "                  gsea_low_hi_Ag,\n",
    "                  gsea_hi_hi_Ag\n",
    "                 )\n",
    "\n",
    "gsea_res_tidy <- gsea_all %>%\n",
    "#     filter(padj<0.05) %>%\n",
    "    as_tibble() %>%\n",
    "    mutate(log_padj = -log10(padj))\n",
    "\n",
    "# order pathways by factor levels\n",
    "gsea_res_tidy$pathway <- factor(gsea_res_tidy$pathway, levels = c(\"KAECH_DAY8_EFF_VS_MEMORY_CD8_TCELL_DN\",\n",
    "    \"GOLDRATH_EFF_VS_MEMORY_CD8_TCELL_DN\",\n",
    "     \"KAECH_DAY8_EFF_VS_MEMORY_CD8_TCELL_UP\",\n",
    "                                                                  \"GOLDRATH_EFF_VS_MEMORY_CD8_TCELL_UP\"))\n",
    "                                                                \n",
    "                                                                  \n",
    "\n",
    "# order comparisons by factor levels \n",
    "gsea_res_tidy$comp <- factor(gsea_res_tidy$comp, levels = c(\n",
    "                                                           \"LH_D3\",\n",
    "                                                           \"HH_D3\",\n",
    "                                                           \"LH_Ag\",\n",
    "                                                           \"HH_Ag\"))\n",
    "\n",
    "\n",
    " # Plot multiple comparisons at once                                                               \n",
    "gsea_plot <- gsea_res_tidy %>% ggplot(., aes(comp, pathway)) +\n",
    "geom_point(aes(size = log_padj, color = NES))+\n",
    "    theme_minimal() + \n",
    "    scale_color_viridis_c()\n",
    "#     scale_color_gradient2(low = \"blue\", mid = \"white\",\n",
    "#                             high = \"red\") +\n",
    "labs(size = \"-log10(adj p-value)\", color = \"NES\") +\n",
    "theme(axis.title.x=element_blank(), axis.title.y=element_blank()) \n",
    "\n",
    "# plot single comparison\n",
    "gsea_plot_LH <- gsea_res_tidy %>% filter(comp == \"LH_D3\") %>%\n",
    " ggplot(., aes(NES, pathway)) +\n",
    "geom_point(aes(size = log_padj))+\n",
    "    theme_minimal() + \n",
    "labs(size = \"-log10(adj p-value)\", color = \"NES\") +\n",
    "theme(axis.title.y=element_blank()) \n",
    "\n",
    "# plot single comparison\n",
    "gsea_plot_HH <- gsea_res_tidy %>% filter(comp == \"HH_D3\") %>%\n",
    " ggplot(., aes(NES, pathway)) +\n",
    "geom_point(aes(size = log_padj))+\n",
    "    theme_minimal() + \n",
    "labs(size = \"-log10(adj p-value)\", color = \"NES\") +\n",
    "theme(axis.title.y=element_blank()) \n",
    "\n",
    "# plot LH and HH together\n",
    "gsea_plot_LH_HH <- gsea_res_tidy %>% filter(comp %in% c(\"LH_D3\",\"HH_D3\")) %>%\n",
    " ggplot(., aes(NES, pathway)) +\n",
    "geom_point(aes(size = log_padj, color = comp, alpha = .5))+\n",
    "    theme_minimal() + \n",
    "labs(size = \"-log10(adj p-value)\", color = \"NES\") +\n",
    "theme(axis.title.y=element_blank()) \n",
    "\n",
    "gsea_plot\n",
    "gsea_plot_LH\n",
    "gsea_plot_HH\n",
    "gsea_plot_LH_HH\n",
    "\n"
   ]
  },
  {
   "cell_type": "code",
   "execution_count": null,
   "metadata": {},
   "outputs": [],
   "source": [
    "save_plot(gsea_plot, file = \"gsea_all_v2.pdf\", base_width = 10)\n",
    "save_plot(gsea_plot_LH, file = \"gsea_all_v3_LH.pdf\", base_width = 8)\n",
    "save_plot(gsea_plot_HH, file = \"gsea_all_v3_HH.pdf\", base_width = 8)\n",
    "save_plot(gsea_plot_LH_HH, file = \"gsea_all_v3_LH_HH.pdf\", base_width = 8)\n"
   ]
  }
 ],
 "metadata": {
  "kernelspec": {
   "display_name": "R",
   "language": "R",
   "name": "ir"
  },
  "language_info": {
   "codemirror_mode": "r",
   "file_extension": ".r",
   "mimetype": "text/x-r-source",
   "name": "R",
   "pygments_lexer": "r",
   "version": "4.0.3"
  }
 },
 "nbformat": 4,
 "nbformat_minor": 4
}
