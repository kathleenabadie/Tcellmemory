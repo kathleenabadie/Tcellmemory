{
 "cells": [
  {
   "cell_type": "code",
   "execution_count": null,
   "metadata": {},
   "outputs": [],
   "source": [
    "library(DESeq2)\n",
    "library(limma)\n",
    "library(rtracklayer)\n",
    "library(tidyverse)\n",
    "library(pheatmap)\n",
    "library(cowplot)\n",
    "library(ComplexHeatmap)\n",
    "library(stringr)\n",
    "library(msigdbr)\n",
    "library(tidyr)\n",
    "library(circlize)\n",
    "library(RColorBrewer)"
   ]
  },
  {
   "cell_type": "markdown",
   "metadata": {},
   "source": [
    "### Gene lists from literature"
   ]
  },
  {
   "cell_type": "code",
   "execution_count": null,
   "metadata": {},
   "outputs": [],
   "source": [
    "# qstem score used in https://www.nature.com/articles/s41590-022-01171-9#MOESM4\n",
    "# positive and negative association\n",
    "qstem_p <- as.vector(as.matrix(read.table(file.path(\"/data/abadiek/2023July_GScluster_copy/scifate_abadiek/Tcf7_genomics/Tcf7_RNA_analysis/gene_lists\", \"qstem_pos.txt\"))))\n",
    "qstem_n <- as.vector(as.matrix(read.table(file.path(\"/data/abadiek/2023July_GScluster_copy/scifate_abadiek/Tcf7_genomics/Tcf7_RNA_analysis/gene_lists\", \"qstem_neg.txt\"))))\n",
    "gs_names <-  as.vector(as.matrix(read.table(file.path(\"/data/abadiek/2023July_GScluster_copy/scifate_abadiek/Tcf7_genomics/Tcf7_RNA_analysis/gene_lists\", \"msigdbr_gs_name.txt\"))))\n",
    "gs_names_gsea <- as.vector(as.matrix(read.table(file.path(\"/data/abadiek/2023July_GScluster_copy/scifate_abadiek/Tcf7_genomics/Tcf7_RNA_analysis/gene_lists\", \"msigdbr_gs_name_gsea.txt\"))))\n",
    "\n",
    "# msigdbr\n",
    "# get gene lists\n",
    "msig_df <- msigdbr(species = \"Mus musculus\", category = \"C7\")\n",
    "msig_df <- msig_df[which(msig_df$gs_name %in% gs_names), ]\n",
    "# msig_df <- msig_df[grep(\"UP\", msig_df$gs_name ), ]\n",
    "\n",
    "# Eff vs mem\n",
    "msig_df_GR_EFFvMEM_UP <- msig_df[grep(\"GOLDRATH_EFF_VS_MEMORY_CD8_TCELL_UP\", msig_df$gs_name ), ] # Goldrath \n",
    "msig_df_GR_EFFvMEM_DN <- msig_df[grep(\"GOLDRATH_EFF_VS_MEMORY_CD8_TCELL_DN\", msig_df$gs_name ), ] # Goldrath \n",
    "msig_df_SK_D8_EFFvMEM_UP <- msig_df[grep(\"KAECH_DAY8_EFF_VS_MEMORY_CD8_TCELL_UP\", msig_df$gs_name ), ] #Kaech D8\n",
    "msig_df_SK_D8_EFFvMEM_DN <- msig_df[grep(\"KAECH_DAY8_EFF_VS_MEMORY_CD8_TCELL_DN\", msig_df$gs_name ), ] #Kaech D8\n",
    "msig_df_SK_D15_EFFvMEM_UP <- msig_df[grep(\"KAECH_DAY15_EFF_VS_MEMORY_CD8_TCELL_UP\", msig_df$gs_name ), ] #Kaech D15\n",
    "msig_df_SK_D15_EFFvMEM_DN <- msig_df[grep(\"KAECH_DAY15_EFF_VS_MEMORY_CD8_TCELL_DN\", msig_df$gs_name ), ] #Kaech D15\n",
    "\n",
    "EffvMem_UP <- unique(c(msig_df_GR_EFFvMEM_UP$gene_symbol, msig_df_SK_D8_EFFvMEM_UP$gene_symbol, msig_df_SK_D15_EFFvMEM_UP$gene_symbol))\n",
    "EffvMem_DN <- unique(c(msig_df_GR_EFFvMEM_DN$gene_symbol, msig_df_SK_D8_EFFvMEM_DN$gene_symbol, msig_df_SK_D15_EFFvMEM_DN$gene_symbol))\n",
    "\n",
    "# stem cell mem vs eff mem\n",
    "msig_df_SCMvEM_UP <- msig_df[grep(\"STEM_CELL_MEMORY_VS_EFFECTOR_MEMORY_CD8_TCELL_UP\", msig_df$gs_name ), ]\n",
    "SCMvEM_UP <- unique(c(msig_df_SCMvEM_UP$gene_symbol))\n",
    "SCMvEM_UP\n",
    "\n"
   ]
  },
  {
   "cell_type": "markdown",
   "metadata": {},
   "source": [
    "### Input peaks"
   ]
  },
  {
   "cell_type": "code",
   "execution_count": null,
   "metadata": {},
   "outputs": [],
   "source": [
    "# conditions below correspond to S1, S2, ..., S11 \n",
    "condition = c(\"Naive\", \"Ag\", \"D3\", \"hi_hi\", \"hi_hi\", \"low_low\", \"low_low\", \"low_low\", \"low_hi\", \"low_hi\", \"low_hi\")"
   ]
  },
  {
   "cell_type": "code",
   "execution_count": null,
   "metadata": {},
   "outputs": [],
   "source": [
    "countData  <- read.delim(\"/data/abadiek/2023July_GScluster_copy/scifate_abadiek/Tcf7_genomics/Tcf7_ATAC_analysis/eyal_pipeline/Merged_PeakFile_annotate.txt\", header=T)\n",
    "countData_raw <- read.delim(\"/data/abadiek/2023July_GScluster_copy/scifate_abadiek/Tcf7_genomics/Tcf7_ATAC_analysis/eyal_pipeline/Merged_PeakFile_annotate.txt\", header=T)\n",
    "countData_raw$width <- countData_raw$End - countData_raw$Start"
   ]
  },
  {
   "cell_type": "code",
   "execution_count": null,
   "metadata": {},
   "outputs": [],
   "source": [
    "#Visualize count data row max for count threshold filtering\n",
    "rm <- apply(countData[ , c(20:30) ], 1, max)\n",
    "hist(rm, breaks = 1000, xlim = c(0,500))\n",
    "s <- sum(rm<20)\n",
    "# filter out peaks with few counts in all samples \n",
    "countData <- countData[rm >= 10, ]\n",
    "\n",
    "# rearrange\n",
    "rownames( countData ) <- countData[,1]  # countData$gene\n",
    "origcolnames <- colnames(countData)\n",
    "metadata <- countData[ , c(1:19) ]\n",
    "countData <- countData[ , c(20:30) ]\n",
    "colnames(countData) <- apply(as.data.frame(gsub(pattern=\"\\\\.\\\\.\", replacement=\"|\", colnames(countData))),1, function(X){ unlist(strsplit(X, \"[|]\"))[2]})\n",
    "countData <- round(countData, 0)\n",
    "\n",
    "# Prepare for deseq \n",
    "# first subset countData and condition to exclude the LL samples from analysis\n",
    "LL_ind <- grep(\"low_low\", condition)\n",
    "condition = condition[-LL_ind]\n",
    "countData = countData[, -LL_ind]\n",
    "\n",
    "condition\n",
    "head(countData)\n"
   ]
  },
  {
   "cell_type": "markdown",
   "metadata": {},
   "source": [
    "### DESeq"
   ]
  },
  {
   "cell_type": "code",
   "execution_count": null,
   "metadata": {},
   "outputs": [],
   "source": [
    "ExpDesign <- data.frame(row.names=colnames(countData), condition = condition)\n",
    "dds = DESeqDataSetFromMatrix(countData, colData=ExpDesign, design= ~ condition)\n",
    "\n"
   ]
  },
  {
   "cell_type": "code",
   "execution_count": null,
   "metadata": {},
   "outputs": [],
   "source": [
    "# Run DESeq if not already saved\n",
    "dds1 <- DESeq(dds)"
   ]
  },
  {
   "cell_type": "markdown",
   "metadata": {},
   "source": [
    "### Save or load dds"
   ]
  },
  {
   "cell_type": "code",
   "execution_count": null,
   "metadata": {},
   "outputs": [],
   "source": [
    "saveRDS(dds1, file = \"Tcf7_ATAC_full_dds_0LL.RDS\")\n",
    "\n",
    "# dds1 <- readRDS(\"Tcf7_ATAC_full_dds_0LL.RDS\")\n",
    "\n",
    "dat1 = cbind(metadata, counts(dds1), round(counts(dds1, normalized=TRUE),1))\n"
   ]
  },
  {
   "cell_type": "markdown",
   "metadata": {},
   "source": [
    "### Comparison"
   ]
  },
  {
   "cell_type": "code",
   "execution_count": null,
   "metadata": {},
   "outputs": [],
   "source": [
    "pair1 <- c(\"low_hi\",\n",
    "           \"low_hi\", \"hi_hi\",\n",
    "           \"low_hi\", \"hi_hi\",\n",
    "           \"low_hi\", \"hi_hi\",\n",
    "           \"Naive\", \"Naive\", \"Ag\")\n",
    "pair2 <- c(\"hi_hi\",\n",
    "           \"Naive\", \"Naive\", \n",
    "           \"Ag\", \"Ag\",\n",
    "           \"D3\", \"D3\", \n",
    "           \"Ag\", \"D3\", \"D3\")\n",
    "condtable<- matrix(c(pair1, pair2), ncol = 2)\n",
    "\n",
    "z= length(condtable[,1])\n",
    "\n",
    "for (i in 1:z){\n",
    "    print(i)\n",
    "\n",
    "    label = paste(condtable[i,1], \"_\", condtable[i,2], sep=\"\")\n",
    "    print(label)\n",
    "    res <-results(dds1, cooksCutoff= FALSE,contrast=c(\"condition\",condtable[i,1],condtable[i,2]))\n",
    "    res.m=as.data.frame(res)\n",
    "    colnames(res.m) = paste (label,colnames(res.m),sep=\".\")\n",
    "    dat1<-cbind(dat1,(res.m),apply(res,1,function(x) ifelse(abs(x[2])>1 & x[6]<0.05,1,0))) # x[2] is log2FC; x[6] is adj p value\n",
    "    colnames(dat1)[ncol(dat1)] <- paste0(colnames(dat1)[ncol(dat1)-1],\"_pass_filter\") # FDR < 0.05; log2FC > 1\n",
    "}\n",
    "\n",
    "# write.table(dat1,\"Merged_PeakFile_annotate_DESEQ2_adjpvalue.txt\", sep=\"\\t\", col.names=NA)"
   ]
  },
  {
   "cell_type": "markdown",
   "metadata": {},
   "source": [
    "### p value visualization"
   ]
  },
  {
   "cell_type": "code",
   "execution_count": null,
   "metadata": {},
   "outputs": [],
   "source": [
    "hist(dat1$low_hi_hi_hi.pvalue,breaks = 100)\n",
    "hist(dat1$low_hi_Naive.pvalue,breaks = 100)\n",
    "hist(dat1$low_hi_Ag.pvalue,breaks = 100)\n",
    "hist(dat1$low_hi_D3.pvalue,breaks = 100)\n",
    "hist(dat1$hi_hi_Naive.pvalue,breaks = 100)\n",
    "hist(dat1$hi_hi_Ag.pvalue,breaks = 100)\n",
    "hist(dat1$hi_hi_D3.pvalue,breaks = 100)\n",
    "hist(dat1$Naive_Ag.pvalue,breaks = 100)\n",
    "hist(dat1$Naive_D3.pvalue,breaks = 100)\n",
    "hist(dat1$Ag_D3.pvalue,breaks = 100)"
   ]
  },
  {
   "cell_type": "code",
   "execution_count": null,
   "metadata": {},
   "outputs": [],
   "source": [
    "# Variable enh between LH and HH\n",
    "dat1_LH_HH <- dat1[dat1$low_hi_hi_hi.padj_pass_filter ==1, ]\n",
    "dds1_LH_HH <- dds1[dat1$low_hi_hi_hi.padj_pass_filter ==1, ]\n",
    "\n",
    "# Aggregate variable enh between each D9 sample and each control\n",
    "select <- unique(c(\n",
    "which(dat1$low_hi_Naive.padj_pass_filter ==1),\n",
    "which(dat1$low_hi_Ag.padj_pass_filter ==1),\n",
    "which(dat1$low_hi_D3.padj_pass_filter ==1),\n",
    "which(dat1$hi_hi_Naive.padj_pass_filter ==1),\n",
    "which(dat1$hi_hi_Ag.padj_pass_filter ==1),\n",
    "which(dat1$hi_hi_D3.padj_pass_filter ==1)))\n",
    "dat1_D9_c <- dat1[select, ]\n",
    "dds1_D9_c <- dds1[select, ]"
   ]
  },
  {
   "cell_type": "markdown",
   "metadata": {},
   "source": [
    "### Heatmap visualization "
   ]
  },
  {
   "cell_type": "code",
   "execution_count": null,
   "metadata": {},
   "outputs": [],
   "source": [
    "\n",
    "# rlog\n",
    "# rld_LH_HH <- rlog(dds1_LH_HH)\n",
    "rld_D9_c <- rlog(dds1_D9_c)\n",
    "\n",
    "# select data for heatmap\n",
    "rld_hm <- rld_D9_c\n",
    "dat1_hm <- dat1_D9_c\n",
    "dds1_hm <- dds1_D9_c\n",
    "\n",
    "# select most significant peaks by either p value or fold change\n",
    "# get minimum of all tested p value\n",
    "padj_cols <- grep(\"padj\", colnames(dat1_hm))\n",
    "padj_filt_cols <- grep(\"padj_pass_filter\", colnames(dat1_hm))\n",
    "padj_cols <- padj_cols[!(padj_cols %in% padj_filt_cols)]\n",
    "dat1_hm$padj_min <- apply(dat1_hm[ , padj_cols], 1, min)\n",
    "# take lowest n min adj p value\n",
    "top_n <- head(order(dat1_hm$padj_min), n=500)\n",
    "dat1_hm <- dat1_hm[top_n, ]\n",
    "dds1_hm <- dds1_hm[top_n, ]\n",
    "rld_hm <- rld_hm[top_n, ]\n",
    "\n",
    "# heatmap matrix prep\n",
    "mat <- assay(rld_hm)\n",
    "rownames(mat) <- dat1_hm$Gene.Name\n",
    "colnames(mat)<- condition\n",
    "mat_scale <- t(scale(t(mat)))\n",
    "\n"
   ]
  },
  {
   "cell_type": "code",
   "execution_count": null,
   "metadata": {},
   "outputs": [],
   "source": [
    "# genes to label (of interest)\n",
    "g_fig <- c('Tcf7', 'Cxcr4', 'Zeb1', 'Zeb2', 'Tbx21', 'PmeI', 'Ifng', 'Tnfrsf8', 'Ccl5', 'Ccr7', 'Sell', 'Hif1a', 'Nfatc1', 'Lef1', 'Runx1', 'Cxcr5', 'Pdcd1', 'Havcr2', 'Il10', 'Ctla4', 'Smad7', 'Pou6f1', 'Il6ra')\n",
    "genes_to_label_pos_1 <- which(rownames(mat_scale) %in% g_fig )\n",
    "genes_to_label_1 <- rownames(mat_scale[genes_to_label_pos_1, ])  \n",
    "\n",
    "# genes to label qstem pos\n",
    "g_fig <- qstem_p\n",
    "genes_to_label_pos_2 <- which(rownames(mat_scale) %in% g_fig )\n",
    "genes_to_label_2 <- rownames(mat_scale[genes_to_label_pos_2, ])  \n",
    "\n",
    "# genes to label qstem neg\n",
    "g_fig <- qstem_n\n",
    "genes_to_label_pos_3 <- which(rownames(mat_scale) %in% g_fig )\n",
    "genes_to_label_3 <- rownames(mat_scale)[genes_to_label_pos_3]  \n",
    "\n",
    "# genes to label Goldrath eff\n",
    "g_fig <- EffvMem_UP\n",
    "genes_to_label_pos_4 <- which(rownames(mat_scale) %in% g_fig )\n",
    "genes_to_label_4 <- rownames(mat_scale[genes_to_label_pos_4, ])  \n",
    "\n",
    "# genes to label Goldrath mem\n",
    "g_fig <- EffvMem_DN\n",
    "genes_to_label_pos_5 <- which(rownames(mat_scale) %in% g_fig )\n",
    "genes_to_label_5 <- rownames(mat_scale[genes_to_label_pos_5, ])  \n",
    "\n",
    "# genes to label Goldrath mem\n",
    "g_fig <- SCMvEM_UP\n",
    "genes_to_label_pos_6 <- which(rownames(mat_scale) %in% g_fig )\n",
    "genes_to_label_6 <- rownames(mat_scale[genes_to_label_pos_6, ])  \n",
    "\n",
    "\n",
    "# column sample name annotations\n",
    "labels <- c('N', 'Mem', 'Act', 'nm', 'nm', 'nem', 'nem', 'nem')\n",
    "labels <- factor(labels, levels = c('Act','N', 'Mem', 'nm','nem' ))\n",
    "ann <- data.frame(labels)\n",
    "colnames(ann) <- c('Sample')\n",
    "colors_anno = list('Sample' = c('Act' = '#A50F15', 'N' = 'green2', 'Mem' = 'darkgreen', 'nem' = 'deepskyblue1', 'nm' = 'blue2'))\n",
    "colAnn <- HeatmapAnnotation(df = ann, \n",
    "  which = 'col',\n",
    "  col = colors_anno, \n",
    "  annotation_width = unit(c(1, 4), 'cm'),\n",
    "  gap = unit(1, 'mm'),\n",
    "  annotation_legend_param = list(Sample = list(direction = \"horizontal\")))\n",
    "\n",
    "\n",
    "ha = rowAnnotation(\n",
    "                   a4=anno_mark(at= genes_to_label_pos_4, labels = genes_to_label_4, which=\"row\", labels_gp = gpar(col= \"#A50F15\",fontsize = 10)),\n",
    "                   a5=anno_mark(at= genes_to_label_pos_5, labels = genes_to_label_5, which=\"row\", labels_gp = gpar(col= \"darkgreen\",fontsize = 10)))\n",
    "#                    a6=anno_mark(at= genes_to_label_pos_6, labels = genes_to_label_6, which=\"row\", labels_gp = gpar(col= \"blue\",fontsize = 10)))\n",
    "\n",
    "#k-means cluster the peaks\n",
    "set.seed(123)\n",
    "split = data.frame(cutree(hclust(dist(mat_scale)), k = 4))\n",
    "split = split %>% dplyr::rename(clust = 1)\n",
    "split$clust <- factor(split$clust, levels = c(1,4,2,3))\n",
    "\n",
    "\n",
    "# Complex heatmap\n",
    "\n",
    "ht_list = Heatmap(mat_scale,\n",
    "    col = colorRamp2(seq(from=-2, to=2, by = (2--2)/12)[1:12], viridis::viridis(12)),\n",
    "    name = \"scaled_rlog\", \n",
    "    show_column_names = FALSE, # false when using column annotation instead \n",
    "    show_row_names = FALSE, \n",
    "    row_names_gp = gpar(fontsize = 4), \n",
    "    cluster_columns = TRUE, \n",
    "    column_dend_reorder = c(3,5,1,8,8,10,10,10), # weights for reordering dendrogram\n",
    "    cluster_rows = TRUE, \n",
    "    show_column_dend = TRUE, \n",
    "    show_row_dend = FALSE,\n",
    "#     show_row_dend = TRUE,\n",
    "#     row_dend_width = unit(3, \"cm\"),\n",
    "    width = unit(6, \"cm\"),\n",
    "    height = unit(24, \"cm\"),\n",
    "    clustering_method_rows = \"complete\",\n",
    "                  \n",
    "    # split by kmeans\n",
    "    cluster_row_slices = FALSE, # manual ordering          \n",
    "    row_split = split,  \n",
    "    \n",
    "    # remove row cluster annotations\n",
    "    row_title = NULL,    \n",
    "    \n",
    "    # annotation\n",
    "    right_annotation = ha,\n",
    "    top_annotation = colAnn,\n",
    "        \n",
    "    # horizontal legend\n",
    "    heatmap_legend_param = list(direction = \"horizontal\")\n",
    "    \n",
    ")\n",
    "\n",
    "ht_list = draw(ht_list, annotation_legend_side=\"right\", heatmap_legend_side = \"bottom\")\n",
    "\n",
    "\n"
   ]
  },
  {
   "cell_type": "code",
   "execution_count": null,
   "metadata": {},
   "outputs": [],
   "source": [
    "# Save\n",
    "pdf(\"ATAC_output_updated/ATAC_D9_hm_clustering-complete_adj-p_n500_enh-prom_clustered.pdf\", width=6, height=12)\n",
    "draw(ht_list)\n",
    "dev.off()"
   ]
  },
  {
   "cell_type": "markdown",
   "metadata": {},
   "source": [
    "### Generate PCA "
   ]
  },
  {
   "cell_type": "code",
   "execution_count": null,
   "metadata": {},
   "outputs": [],
   "source": [
    "# make condition factor with levels for proper plotting order\n",
    "labels <- c('N', 'Mem', 'Act', 'nm', 'nm', 'nem', 'nem', 'nem')\n",
    "rld_hm$condition <-  factor(rld_hm$condition, levels = c(\"D3\", \"Naive\", \"Ag\", \"hi_hi\", \"low_hi\"))\n",
    "\n",
    "# colors \n",
    "cols <-  c(\"#A50F15\", \"green2\", \"darkgreen\", \"blue2\", \"deepskyblue1\")\n",
    "\n",
    "# PCA using top 500 DEG with padj <.05 between controls and D9\n",
    "pcaData <- plotPCA(rld_hm, intgroup=c(\"condition\"), returnData=TRUE)\n",
    "percentVar <- round(100 * attr(pcaData, \"percentVar\"))\n",
    "g <- ggplot(pcaData, aes(PC1, PC2, color=condition)) +\n",
    "  geom_point(size=3) +\n",
    "  xlab(paste0(\"PC1: \",percentVar[1],\"%\")) +\n",
    "  ylab(paste0(\"PC2: \",percentVar[2],\"%\")) + \n",
    "  coord_fixed() + scale_color_manual(\"\",labels=c('Act', 'N', 'Mem', 'nm', 'nem'), values = cols) +\n",
    "theme_bw(base_size=20) + theme(axis.text=element_text(size=14))\n",
    "\n",
    "g\n",
    "save_plot(g, file = \"ATAC_output_updated/ATAC_pca_D9_c_0LL.pdf\")"
   ]
  },
  {
   "cell_type": "markdown",
   "metadata": {},
   "source": [
    "### Generate correlation map as alternative to PCA"
   ]
  },
  {
   "cell_type": "code",
   "execution_count": null,
   "metadata": {},
   "outputs": [],
   "source": [
    "# choose matrix for sample distance plot\n",
    "mat_dist <- rld_hm\n",
    "mat_dist$cond_label <- c('N', 'Mem', 'Act', 'nm', 'nm', 'nem', 'nem', 'nem')\n",
    "\n",
    "sampleDists <- dist(t(assay(mat_dist)))\n",
    "sampleDistMatrix <- as.matrix(sampleDists)\n",
    "rownames(sampleDistMatrix) <- paste(mat_dist$cond_label, mat_dist$type)\n",
    "colnames(sampleDistMatrix) <- NULL\n",
    "colors <- colorRampPalette( rev(brewer.pal(9, \"Blues\")) )(255)\n",
    "\n",
    "ht_corr = Heatmap(sampleDistMatrix, \n",
    "    name = \"Sample Dist\",\n",
    "    show_column_names = FALSE, \n",
    "    show_row_names = TRUE, \n",
    "    # row_names_gp = gpar(fontsize = 2), \n",
    "    cluster_columns = TRUE, \n",
    "    column_dend_reorder = c(3,5,1,8,8,10,10,10), # weights for reordering dendrogram\n",
    "    cluster_rows = TRUE, \n",
    "    row_dend_reorder = c(3,5,1,8,8,10,10,10), # weights for reordering dendrogram\n",
    "    show_column_dend = TRUE, show_row_dend = TRUE,width = unit(8, \"cm\"),\n",
    "    col = colors\n",
    ")\n",
    "ht_corr = draw(ht_corr)\n",
    "\n",
    "pdf(\"ATAC_output_updated/ATAC_corr-matrix.pdf\", width=6, height=4)\n",
    "ht_corr\n",
    "dev.off()"
   ]
  },
  {
   "cell_type": "markdown",
   "metadata": {},
   "source": [
    "### Get genomic coordinates of DE peaks of genes of interest for visualization"
   ]
  },
  {
   "cell_type": "code",
   "execution_count": null,
   "metadata": {},
   "outputs": [],
   "source": [
    "# TFs from sci dataset\n",
    "TF_Tcell <- str_to_title(c('JUNB', 'MYC', 'TBX21', 'IRF4', 'EGR1', 'NFATC1', 'BMYC', 'MXI1', 'STAT5A', 'NFAT5', 'ELK3', 'EOMES', 'REL', 'BHLHE40', 'STAT3', 'RUNX2', 'FOXO3', 'MXD4', 'BCL11B', 'CUX1', 'GTF2I', 'FOXO1', 'FLI1', 'STAT1', 'CHD2', 'ZEB1', 'FOXN3', 'TCF7', 'LEF1', 'ELF1', 'MYB', 'IKZF1', 'TCF12'))\n",
    "# additional goi\n",
    "goi <- c('Tcf7', 'Cxcr4', 'Zeb1', 'Zeb2', 'Tbx21', 'PmeI', 'Ifng', 'Tnfrsf8', 'Ccl5', 'Ccr7', 'Sell', 'Hif1a', 'Nfatc1', 'Lef1', 'Runx1', 'Cxcr5', 'Pdcd1', 'Havcr2', 'Il10', 'Ctla4', 'Smad7', 'Pou6f1', 'Il6ra',\n",
    "         'Tbx21', 'Il7r', 'Eomes',\n",
    "         'Cx3cr1', 'Klrg1', 'Bach2', 'Gzmb', 'Prf1',\n",
    "         'Klrc1', 'Klrc2', 'Klrk1') # From RNA DE\n",
    "goi <- unique(c(TF_Tcell, goi))\n",
    "dat1_goi <- dat1_D9_c[which(dat1_D9_c$Gene.Name %in% goi), ]\n",
    "\n",
    "# generate combined chr start end column\n",
    "dat1_goi_info <- dat1_goi %>% dplyr::select(Gene.Name, Chr, Start, End, Distance.to.TSS) %>%\n",
    "  unite(\"chr_start\", Chr,Start, sep = c(\"-\"), remove = FALSE) %>%\n",
    "  unite(\"loc\", chr_start,End, sep = c(\"-\"), remove = FALSE) %>% dplyr::select(!chr_start) \n",
    "\n",
    "\n",
    "# label as promoter or enhancer based on distance to TSS\n",
    "dat1_goi_info$cat <- \"none\"\n",
    "dat1_goi_info[which(abs(dat1_goi_info$Distance.to.TSS) <500, ), ]$cat <- \"prom\"\n",
    "dat1_goi_info[which(abs(dat1_goi_info$Distance.to.TSS) >=500, ), ]$cat <- \"enh\"\n"
   ]
  },
  {
   "cell_type": "code",
   "execution_count": null,
   "metadata": {},
   "outputs": [],
   "source": [
    "head(dat1_goi_info)"
   ]
  },
  {
   "cell_type": "code",
   "execution_count": null,
   "metadata": {},
   "outputs": [],
   "source": [
    "write_csv(dat1_goi_info, file = \"ATAC_DE_peak_goi_info.csv\")"
   ]
  }
 ],
 "metadata": {
  "kernelspec": {
   "display_name": "R_env03",
   "language": "R",
   "name": "r_env03"
  },
  "language_info": {
   "codemirror_mode": "r",
   "file_extension": ".r",
   "mimetype": "text/x-r-source",
   "name": "R",
   "pygments_lexer": "r",
   "version": "4.3.2"
  }
 },
 "nbformat": 4,
 "nbformat_minor": 4
}
